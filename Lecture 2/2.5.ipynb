{
 "cells": [
  {
   "cell_type": "markdown",
   "id": "30594a46-8e11-424d-b258-9cfc4f192889",
   "metadata": {},
   "source": [
    "SETS"
   ]
  },
  {
   "cell_type": "markdown",
   "id": "9d73b51f-5c28-47f1-85a1-ceaf331bd86f",
   "metadata": {},
   "source": [
    "1. Python Sets"
   ]
  },
  {
   "cell_type": "code",
   "execution_count": 4,
   "id": "450c23a6-0671-4b7d-9f59-44529721e2c8",
   "metadata": {},
   "outputs": [
    {
     "name": "stdout",
     "output_type": "stream",
     "text": [
      "{'cherry', 'banana', 'apple'}\n"
     ]
    }
   ],
   "source": [
    "thisset = {\"apple\", \"banana\", \"cherry\"}\n",
    "print(thisset)"
   ]
  },
  {
   "cell_type": "code",
   "execution_count": 6,
   "id": "d5c1a19f-6c56-492e-9a29-9c14f5c174b7",
   "metadata": {},
   "outputs": [
    {
     "name": "stdout",
     "output_type": "stream",
     "text": [
      "{'cherry', 'banana', 'apple'}\n"
     ]
    }
   ],
   "source": [
    "thisset = {\"apple\", \"banana\", \"cherry\", \"apple\"}\n",
    "print(thisset)"
   ]
  },
  {
   "cell_type": "code",
   "execution_count": 8,
   "id": "fb7406b0-6c19-4b1c-ae3b-60e9c178742b",
   "metadata": {},
   "outputs": [
    {
     "name": "stdout",
     "output_type": "stream",
     "text": [
      "{True, 2, 'cherry', 'banana', 'apple'}\n"
     ]
    }
   ],
   "source": [
    "thisset = {\"apple\", \"banana\", \"cherry\", True, 2, 1}\n",
    "print(thisset)"
   ]
  },
  {
   "cell_type": "code",
   "execution_count": 10,
   "id": "bdba6d49-8130-4a02-856a-55df074d51fd",
   "metadata": {},
   "outputs": [
    {
     "name": "stdout",
     "output_type": "stream",
     "text": [
      "{False, 1, 'cherry', 'banana', 'apple'}\n"
     ]
    }
   ],
   "source": [
    "thisset = {\"apple\", \"banana\", \"cherry\", False, 0, 1}\n",
    "print(thisset)"
   ]
  },
  {
   "cell_type": "code",
   "execution_count": 12,
   "id": "475c6bc0-525c-43d4-8c01-6e73e89234a6",
   "metadata": {},
   "outputs": [
    {
     "name": "stdout",
     "output_type": "stream",
     "text": [
      "3\n"
     ]
    }
   ],
   "source": [
    "thisset = {\"apple\", \"banana\", \"cherry\"}\n",
    "print(len(thisset))"
   ]
  },
  {
   "cell_type": "code",
   "execution_count": 14,
   "id": "f19db715-8e87-4fe1-9294-10cf41fcebc3",
   "metadata": {},
   "outputs": [
    {
     "name": "stdout",
     "output_type": "stream",
     "text": [
      "{False, 1, 40, 'male', 'abc'}\n"
     ]
    }
   ],
   "source": [
    "thisset = {\"abc\", 1, False, 40, \"male\"}\n",
    "print(thisset)"
   ]
  },
  {
   "cell_type": "code",
   "execution_count": 16,
   "id": "84db3f57-cdc2-42f0-b3dd-63846906f5a1",
   "metadata": {},
   "outputs": [
    {
     "name": "stdout",
     "output_type": "stream",
     "text": [
      "<class 'set'>\n"
     ]
    }
   ],
   "source": [
    "thisset = {\"apple\", \"banana\", \"cherry\"}\n",
    "print(type(thisset))"
   ]
  },
  {
   "cell_type": "code",
   "execution_count": 18,
   "id": "b0301cb1-d16e-4041-ba53-79ffd469ed9c",
   "metadata": {},
   "outputs": [
    {
     "name": "stdout",
     "output_type": "stream",
     "text": [
      "{'cherry', 'banana', 'apple'}\n"
     ]
    }
   ],
   "source": [
    "thisset = set((\"apple\", \"banana\", \"cherry\"))\n",
    "print(thisset)"
   ]
  },
  {
   "cell_type": "markdown",
   "id": "71ed2670-f6d8-4925-b5e6-782b0202dc2c",
   "metadata": {},
   "source": [
    "2. Access Set Items"
   ]
  },
  {
   "cell_type": "code",
   "execution_count": 21,
   "id": "755d9b5c-d52e-46b5-9957-f7da65545100",
   "metadata": {},
   "outputs": [
    {
     "name": "stdout",
     "output_type": "stream",
     "text": [
      "cherry\n",
      "banana\n",
      "apple\n"
     ]
    }
   ],
   "source": [
    "thisset = {\"apple\", \"banana\", \"cherry\"}\n",
    "for x in thisset:\n",
    "    print(x)"
   ]
  },
  {
   "cell_type": "code",
   "execution_count": 23,
   "id": "2cb4181f-3275-4e5e-a095-c0515951988c",
   "metadata": {},
   "outputs": [
    {
     "name": "stdout",
     "output_type": "stream",
     "text": [
      "True\n"
     ]
    }
   ],
   "source": [
    "thisset = {\"apple\", \"banana\", \"cherry\"}\n",
    "print(\"banana\" in thisset)"
   ]
  },
  {
   "cell_type": "code",
   "execution_count": 25,
   "id": "34ceea4a-84cc-4746-b458-9cb2b7292400",
   "metadata": {},
   "outputs": [
    {
     "name": "stdout",
     "output_type": "stream",
     "text": [
      "False\n"
     ]
    }
   ],
   "source": [
    "thisset = {\"apple\", \"banana\", \"cherry\"}\n",
    "print(\"banana\" not in thisset)"
   ]
  },
  {
   "cell_type": "markdown",
   "id": "0eef7299-ca28-44d0-9578-0f2b72b45fc1",
   "metadata": {},
   "source": [
    "3. Add Items"
   ]
  },
  {
   "cell_type": "code",
   "execution_count": 28,
   "id": "aef24a9f-9c47-474e-a9d3-827fa2d0a946",
   "metadata": {},
   "outputs": [
    {
     "name": "stdout",
     "output_type": "stream",
     "text": [
      "{'orange', 'cherry', 'banana', 'apple'}\n"
     ]
    }
   ],
   "source": [
    "thisset = {\"apple\", \"banana\", \"cherry\"}\n",
    "thisset.add(\"orange\")\n",
    "print(thisset)"
   ]
  },
  {
   "cell_type": "code",
   "execution_count": 30,
   "id": "1e3aceac-8fd6-4851-acd3-2dfb74db3dd0",
   "metadata": {},
   "outputs": [
    {
     "name": "stdout",
     "output_type": "stream",
     "text": [
      "{'cherry', 'papaya', 'mango', 'banana', 'apple', 'kiwi'}\n"
     ]
    }
   ],
   "source": [
    "thisset = {\"apple\", \"banana\", \"cherry\"}\n",
    "tropical = {\"mango\", \"papaya\", \"kiwi\"}\n",
    "thisset.update(tropical)\n",
    "print(thisset)"
   ]
  },
  {
   "cell_type": "code",
   "execution_count": 32,
   "id": "7a4d9cfc-f3cc-4dc8-ae4d-d2cc6533df4a",
   "metadata": {},
   "outputs": [
    {
     "name": "stdout",
     "output_type": "stream",
     "text": [
      "{'orange', 'apple', 'cherry', 'banana', 'kiwi'}\n"
     ]
    }
   ],
   "source": [
    "thisset = {\"apple\", \"banana\", \"cherry\"}\n",
    "mylist = [\"kiwi\", \"orange\"]\n",
    "thisset.update(mylist)\n",
    "print(thisset)"
   ]
  },
  {
   "cell_type": "markdown",
   "id": "30c42647-d3b6-4ac1-9b8d-422282fbd04b",
   "metadata": {},
   "source": [
    "4. Remove Item"
   ]
  },
  {
   "cell_type": "code",
   "execution_count": 35,
   "id": "22555d9a-ce5d-4f18-9f42-14efdcf9ef04",
   "metadata": {},
   "outputs": [
    {
     "name": "stdout",
     "output_type": "stream",
     "text": [
      "{'cherry', 'apple'}\n"
     ]
    }
   ],
   "source": [
    "thisset = {\"apple\", \"banana\", \"cherry\"}\n",
    "thisset.remove(\"banana\")\n",
    "print(thisset)"
   ]
  },
  {
   "cell_type": "code",
   "execution_count": 37,
   "id": "d63904d5-b1d4-4483-8733-19834244e5a0",
   "metadata": {},
   "outputs": [
    {
     "name": "stdout",
     "output_type": "stream",
     "text": [
      "{'cherry', 'apple'}\n"
     ]
    }
   ],
   "source": [
    "thisset = {\"apple\", \"banana\", \"cherry\"}\n",
    "thisset.discard(\"banana\")\n",
    "print(thisset)"
   ]
  },
  {
   "cell_type": "code",
   "execution_count": 39,
   "id": "21ce6962-4ee9-471a-a8a0-dfcfe40ccdc8",
   "metadata": {},
   "outputs": [
    {
     "name": "stdout",
     "output_type": "stream",
     "text": [
      "cherry\n",
      "{'banana', 'apple'}\n"
     ]
    }
   ],
   "source": [
    "thisset = {\"apple\", \"banana\", \"cherry\"}\n",
    "x = thisset.pop()\n",
    "print(x)\n",
    "print(thisset)"
   ]
  },
  {
   "cell_type": "code",
   "execution_count": 43,
   "id": "2dc477ca-1cac-476c-809f-302712e1ffac",
   "metadata": {},
   "outputs": [
    {
     "name": "stdout",
     "output_type": "stream",
     "text": [
      "set()\n"
     ]
    }
   ],
   "source": [
    "thisset = {\"apple\", \"banana\", \"cherry\"}\n",
    "thisset.clear()\n",
    "print(thisset)"
   ]
  },
  {
   "cell_type": "code",
   "execution_count": 45,
   "id": "02991046-2b44-4c63-b742-2d0e5f0beab0",
   "metadata": {},
   "outputs": [
    {
     "ename": "NameError",
     "evalue": "name 'thisset' is not defined",
     "output_type": "error",
     "traceback": [
      "\u001b[0;31m---------------------------------------------------------------------------\u001b[0m",
      "\u001b[0;31mNameError\u001b[0m                                 Traceback (most recent call last)",
      "Cell \u001b[0;32mIn[45], line 3\u001b[0m\n\u001b[1;32m      1\u001b[0m thisset \u001b[38;5;241m=\u001b[39m {\u001b[38;5;124m\"\u001b[39m\u001b[38;5;124mapple\u001b[39m\u001b[38;5;124m\"\u001b[39m, \u001b[38;5;124m\"\u001b[39m\u001b[38;5;124mbanana\u001b[39m\u001b[38;5;124m\"\u001b[39m, \u001b[38;5;124m\"\u001b[39m\u001b[38;5;124mcherry\u001b[39m\u001b[38;5;124m\"\u001b[39m}\n\u001b[1;32m      2\u001b[0m \u001b[38;5;28;01mdel\u001b[39;00m thisset\n\u001b[0;32m----> 3\u001b[0m \u001b[38;5;28mprint\u001b[39m(thisset)\n",
      "\u001b[0;31mNameError\u001b[0m: name 'thisset' is not defined"
     ]
    }
   ],
   "source": [
    "thisset = {\"apple\", \"banana\", \"cherry\"}\n",
    "del thisset\n",
    "print(thisset)"
   ]
  },
  {
   "cell_type": "markdown",
   "id": "91305253-b5ef-4ea4-8cd5-a159ef2427bf",
   "metadata": {},
   "source": [
    "5. Loop Sets"
   ]
  },
  {
   "cell_type": "code",
   "execution_count": 51,
   "id": "50846c20-7a53-4177-bfd5-15f893e306fc",
   "metadata": {},
   "outputs": [
    {
     "name": "stdout",
     "output_type": "stream",
     "text": [
      "cherry\n",
      "banana\n",
      "apple\n"
     ]
    }
   ],
   "source": [
    "thisset = {\"apple\", \"banana\", \"cherry\"}\n",
    "for x in thisset:\n",
    "    print(x)"
   ]
  },
  {
   "cell_type": "markdown",
   "id": "26989e09-0096-4566-9f13-43af437f2b47",
   "metadata": {},
   "source": [
    "6. Join Sets"
   ]
  },
  {
   "cell_type": "code",
   "execution_count": 54,
   "id": "26292f1f-218a-4129-8516-6f5026b95261",
   "metadata": {},
   "outputs": [
    {
     "name": "stdout",
     "output_type": "stream",
     "text": [
      "{1, 2, 3, 'b', 'c', 'a'}\n"
     ]
    }
   ],
   "source": [
    "set1 = {\"a\", \"b\", \"c\"}\n",
    "set2 = {1, 2, 3}\n",
    "set3 = set1.union(set2)\n",
    "print(set3)"
   ]
  },
  {
   "cell_type": "code",
   "execution_count": 56,
   "id": "6bbd4561-099f-4d17-b419-2fcfd699d82b",
   "metadata": {},
   "outputs": [
    {
     "name": "stdout",
     "output_type": "stream",
     "text": [
      "{1, 2, 3, 'b', 'c', 'a'}\n"
     ]
    }
   ],
   "source": [
    "set1 = {\"a\", \"b\", \"c\"}\n",
    "set2 = {1, 2, 3}\n",
    "set3 = set1 | (set2)\n",
    "print(set3)"
   ]
  },
  {
   "cell_type": "code",
   "execution_count": 58,
   "id": "c5b5004e-0b3d-4a88-a0de-fcf5c057181d",
   "metadata": {},
   "outputs": [
    {
     "name": "stdout",
     "output_type": "stream",
     "text": [
      "{1, 2, 3, 'b', 'bananas', 'apple', 'cherry', 'c', 'a', 'John', 'Elena'}\n"
     ]
    }
   ],
   "source": [
    "set1 = {\"a\", \"b\", \"c\"}\n",
    "set2 = {1, 2, 3}\n",
    "set3 = {\"John\", \"Elena\"}\n",
    "set4 = {\"apple\", \"bananas\", \"cherry\"}\n",
    "newset = set1.union(set2, set3, set4)\n",
    "print(newset)"
   ]
  },
  {
   "cell_type": "code",
   "execution_count": 62,
   "id": "f7ee42ab-685d-4d33-a5f2-8e2ccbfaf8c3",
   "metadata": {},
   "outputs": [
    {
     "name": "stdout",
     "output_type": "stream",
     "text": [
      "{1, 2, 3, 'b', 'c', 'a'}\n"
     ]
    }
   ],
   "source": [
    "x = {\"a\", \"b\", \"c\"}\n",
    "y = (1, 2, 3)\n",
    "z = x.union(y)\n",
    "print(z)"
   ]
  },
  {
   "cell_type": "code",
   "execution_count": 64,
   "id": "16e2993d-5b62-4d0e-950e-ce935f578d29",
   "metadata": {},
   "outputs": [
    {
     "name": "stdout",
     "output_type": "stream",
     "text": [
      "{1, 2, 3, 'b', 'c', 'a'}\n"
     ]
    }
   ],
   "source": [
    "set1 = {\"a\", \"b\", \"c\"}\n",
    "set2 = {1, 2, 3, 1, \"a\"}\n",
    "set1.update(set2)\n",
    "print(set1)"
   ]
  },
  {
   "cell_type": "code",
   "execution_count": 68,
   "id": "a5ede0b3-b426-4c15-8dca-8289a40d0b75",
   "metadata": {},
   "outputs": [
    {
     "name": "stdout",
     "output_type": "stream",
     "text": [
      "{'apple'}\n"
     ]
    }
   ],
   "source": [
    "set1 ={'apple', 'banana', 'cherry'}\n",
    "set2 = {'google', 'microsoft', 'apple'}\n",
    "set3 = set1.intersection(set2)\n",
    "print(set3)"
   ]
  },
  {
   "cell_type": "code",
   "execution_count": 70,
   "id": "69e2c857-2b4a-4a33-bf8b-62f342f4833e",
   "metadata": {},
   "outputs": [
    {
     "name": "stdout",
     "output_type": "stream",
     "text": [
      "{'apple'}\n"
     ]
    }
   ],
   "source": [
    "set1 ={'apple', 'banana', 'cherry'}\n",
    "set2 = {'google', 'microsoft', 'apple'}\n",
    "set3 = set1 & set2\n",
    "print(set3)"
   ]
  },
  {
   "cell_type": "code",
   "execution_count": 74,
   "id": "075850b6-a718-49d4-8cc4-7005a632795c",
   "metadata": {},
   "outputs": [
    {
     "name": "stdout",
     "output_type": "stream",
     "text": [
      "{'apple'}\n"
     ]
    }
   ],
   "source": [
    "set1 ={'apple', 'banana', 'cherry'}\n",
    "set2 = {'google', 'microsoft', 'apple'}\n",
    "set1.intersection_update(set2)\n",
    "print(set1)"
   ]
  },
  {
   "cell_type": "code",
   "execution_count": 76,
   "id": "3506927d-2b1b-4361-928d-23bc66c63436",
   "metadata": {},
   "outputs": [
    {
     "name": "stdout",
     "output_type": "stream",
     "text": [
      "{False, True, 'apple'}\n"
     ]
    }
   ],
   "source": [
    "set1 = {\"apple\", \"banana\", \"cherry\", 1, 0}\n",
    "set2 = {\"apple\", True, False, 1, \"google\"}\n",
    "set1.intersection_update(set2)\n",
    "print(set1)"
   ]
  },
  {
   "cell_type": "code",
   "execution_count": 78,
   "id": "cc1eacc8-adc2-4a63-977e-69c50651bb52",
   "metadata": {},
   "outputs": [
    {
     "name": "stdout",
     "output_type": "stream",
     "text": [
      "{'cherry', 'banana'}\n"
     ]
    }
   ],
   "source": [
    "set1 = {\"apple\", \"banana\", \"cherry\"}\n",
    "set2 = {\"google\", \"microsoft\", \"apple\"}\n",
    "set3 = set1.difference(set2)\n",
    "print(set3)"
   ]
  },
  {
   "cell_type": "code",
   "execution_count": 80,
   "id": "a2d3892a-ff2b-4cd1-b4b3-f0a2c94b215e",
   "metadata": {},
   "outputs": [
    {
     "name": "stdout",
     "output_type": "stream",
     "text": [
      "{'cherry', 'banana'}\n"
     ]
    }
   ],
   "source": [
    "set1 = {\"apple\", \"banana\", \"cherry\"}\n",
    "set2 = {\"google\", \"microsoft\", \"apple\"}\n",
    "set3 = set1 - set2\n",
    "print(set3)"
   ]
  },
  {
   "cell_type": "code",
   "execution_count": 82,
   "id": "3d88a5ab-c2c5-48a9-8a6b-77de716b4f54",
   "metadata": {},
   "outputs": [
    {
     "name": "stdout",
     "output_type": "stream",
     "text": [
      "{'google', 'microsoft', 'cherry', 'banana'}\n"
     ]
    }
   ],
   "source": [
    "set1 = {\"apple\", \"banana\", \"cherry\"}\n",
    "set2 = {\"google\", \"microsoft\", \"apple\"}\n",
    "set3 = set1.symmetric_difference(set2)\n",
    "print(set3)"
   ]
  },
  {
   "cell_type": "code",
   "execution_count": 84,
   "id": "eab64d70-360b-4909-939a-e513c38f6b6a",
   "metadata": {},
   "outputs": [
    {
     "name": "stdout",
     "output_type": "stream",
     "text": [
      "{'google', 'microsoft', 'cherry', 'banana'}\n"
     ]
    }
   ],
   "source": [
    "set1 = {\"apple\", \"banana\", \"cherry\"}\n",
    "set2 = {\"google\", \"microsoft\", \"apple\"}\n",
    "set3 = set1 ^ set2\n",
    "print(set3)"
   ]
  },
  {
   "cell_type": "code",
   "execution_count": null,
   "id": "7bcb9344-92ee-4393-86fe-181161c805f9",
   "metadata": {},
   "outputs": [],
   "source": []
  }
 ],
 "metadata": {
  "kernelspec": {
   "display_name": "Python [conda env:base] *",
   "language": "python",
   "name": "conda-base-py"
  },
  "language_info": {
   "codemirror_mode": {
    "name": "ipython",
    "version": 3
   },
   "file_extension": ".py",
   "mimetype": "text/x-python",
   "name": "python",
   "nbconvert_exporter": "python",
   "pygments_lexer": "ipython3",
   "version": "3.12.7"
  }
 },
 "nbformat": 4,
 "nbformat_minor": 5
}
