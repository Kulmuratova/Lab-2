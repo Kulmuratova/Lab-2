{
 "cells": [
  {
   "cell_type": "markdown",
   "id": "d1aa893a-4332-4090-a4ad-b062ff57323b",
   "metadata": {},
   "source": [
    "IF...ELSE"
   ]
  },
  {
   "cell_type": "code",
   "execution_count": 6,
   "id": "00214170-d7d8-48ad-9df7-fa6a2c4d36aa",
   "metadata": {},
   "outputs": [
    {
     "name": "stdout",
     "output_type": "stream",
     "text": [
      "a and b equal\n"
     ]
    }
   ],
   "source": [
    "a = 33\n",
    "b = 33\n",
    "if b > a:\n",
    "    print(\"b is grater than a\")\n",
    "elif a == b:\n",
    "    print(\"a and b equal\")"
   ]
  },
  {
   "cell_type": "code",
   "execution_count": 8,
   "id": "2ed3df4b-fdd8-44e4-9c1a-371345d07214",
   "metadata": {},
   "outputs": [
    {
     "name": "stdout",
     "output_type": "stream",
     "text": [
      "a is greater than b\n"
     ]
    }
   ],
   "source": [
    "a = 200\n",
    "b = 33\n",
    "if a > b: print(\"a is greater than b\")"
   ]
  },
  {
   "cell_type": "code",
   "execution_count": 10,
   "id": "e4f3db2b-7252-4bbe-9284-7c2a01360c8c",
   "metadata": {},
   "outputs": [
    {
     "name": "stdout",
     "output_type": "stream",
     "text": [
      "b\n"
     ]
    }
   ],
   "source": [
    "a = 2\n",
    "b = 330\n",
    "print(\"a\") if a > b else print(\"b\")"
   ]
  },
  {
   "cell_type": "code",
   "execution_count": 12,
   "id": "c39d7a9e-3f49-4a4a-9343-6535c7710938",
   "metadata": {},
   "outputs": [
    {
     "name": "stdout",
     "output_type": "stream",
     "text": [
      "=\n"
     ]
    }
   ],
   "source": [
    "a = 330\n",
    "b = 330\n",
    "print(\"a\") if a > b else print(\"=\") if a == b else print(\"b\")"
   ]
  },
  {
   "cell_type": "code",
   "execution_count": 14,
   "id": "3980d24d-3d6f-48c4-9181-fe6025b769fb",
   "metadata": {},
   "outputs": [
    {
     "name": "stdout",
     "output_type": "stream",
     "text": [
      "both conditions are true\n"
     ]
    }
   ],
   "source": [
    "a = 200\n",
    "b = 33\n",
    "c = 500\n",
    "if a > b and  c > a:\n",
    "    print(\"both conditions are true\")"
   ]
  },
  {
   "cell_type": "code",
   "execution_count": 18,
   "id": "2fec7287-f98b-4674-a859-983c94277582",
   "metadata": {},
   "outputs": [
    {
     "name": "stdout",
     "output_type": "stream",
     "text": [
      "at least one of the conditioans is true\n"
     ]
    }
   ],
   "source": [
    "a = 200\n",
    "b = 33\n",
    "c = 500\n",
    "if a > b or a > c:\n",
    "    print(\"at least one of the conditioans is true\")"
   ]
  },
  {
   "cell_type": "code",
   "execution_count": 20,
   "id": "c07e0c65-055f-4f4d-adcc-9a46c715a74e",
   "metadata": {},
   "outputs": [
    {
     "name": "stdout",
     "output_type": "stream",
     "text": [
      "a is not greater than b\n"
     ]
    }
   ],
   "source": [
    "a = 33\n",
    "b = 200\n",
    "if not a > b:\n",
    "    print(\"a is not greater than b\")"
   ]
  },
  {
   "cell_type": "code",
   "execution_count": 24,
   "id": "31961623-e162-48b9-90be-f9ed4304f743",
   "metadata": {},
   "outputs": [
    {
     "name": "stdout",
     "output_type": "stream",
     "text": [
      "Above ten...\n",
      "Above 20!\n"
     ]
    }
   ],
   "source": [
    "x = 41\n",
    "if x > 10:\n",
    "    print(\"Above ten...\")\n",
    "    if x > 20:\n",
    "        print(\"Above 20!\")\n",
    "    else:\n",
    "        print(\"but, not above 20!\")"
   ]
  },
  {
   "cell_type": "code",
   "execution_count": 26,
   "id": "550301bd-6b00-4855-9ad6-f7a0cf9fbe80",
   "metadata": {},
   "outputs": [],
   "source": [
    "a = 33\n",
    "b = 200\n",
    "if b > a:\n",
    "    pass"
   ]
  },
  {
   "cell_type": "code",
   "execution_count": null,
   "id": "7af29923-2726-4bf0-862c-296307c0e0a7",
   "metadata": {},
   "outputs": [],
   "source": []
  }
 ],
 "metadata": {
  "kernelspec": {
   "display_name": "Python [conda env:base] *",
   "language": "python",
   "name": "conda-base-py"
  },
  "language_info": {
   "codemirror_mode": {
    "name": "ipython",
    "version": 3
   },
   "file_extension": ".py",
   "mimetype": "text/x-python",
   "name": "python",
   "nbconvert_exporter": "python",
   "pygments_lexer": "ipython3",
   "version": "3.12.7"
  }
 },
 "nbformat": 4,
 "nbformat_minor": 5
}
