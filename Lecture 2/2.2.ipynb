{
 "cells": [
  {
   "cell_type": "markdown",
   "id": "516444bb-064c-44cc-8149-74923a7f15a7",
   "metadata": {},
   "source": [
    "OPERATORS"
   ]
  },
  {
   "cell_type": "code",
   "execution_count": 3,
   "id": "8383d858-6dfc-4fec-9ded-69b73dac6b85",
   "metadata": {},
   "outputs": [
    {
     "name": "stdout",
     "output_type": "stream",
     "text": [
      "15\n"
     ]
    }
   ],
   "source": [
    "print(10 + 5)"
   ]
  },
  {
   "cell_type": "code",
   "execution_count": 5,
   "id": "5f242994-fc25-4ef1-a126-7c3b66581854",
   "metadata": {},
   "outputs": [
    {
     "name": "stdout",
     "output_type": "stream",
     "text": [
      "2\n"
     ]
    }
   ],
   "source": [
    "x = 5\n",
    "y = 3\n",
    "print(x - y)"
   ]
  },
  {
   "cell_type": "code",
   "execution_count": 9,
   "id": "d6d681c2-b640-4f5f-837f-4fb860295db8",
   "metadata": {},
   "outputs": [
    {
     "name": "stdout",
     "output_type": "stream",
     "text": [
      "15\n"
     ]
    }
   ],
   "source": [
    "x = 5\n",
    "y = 3\n",
    "print(x * y)"
   ]
  },
  {
   "cell_type": "code",
   "execution_count": 11,
   "id": "c8388eec-f002-403c-803e-5a6a087579ab",
   "metadata": {},
   "outputs": [
    {
     "name": "stdout",
     "output_type": "stream",
     "text": [
      "4.0\n"
     ]
    }
   ],
   "source": [
    "x = 12\n",
    "y = 3\n",
    "print(x / y)"
   ]
  },
  {
   "cell_type": "code",
   "execution_count": 13,
   "id": "288fc600-27ae-4d9a-b43b-f45b95751719",
   "metadata": {},
   "outputs": [
    {
     "name": "stdout",
     "output_type": "stream",
     "text": [
      "1\n"
     ]
    }
   ],
   "source": [
    "x = 5\n",
    "y = 2\n",
    "print(x % 2)"
   ]
  },
  {
   "cell_type": "code",
   "execution_count": 15,
   "id": "e948fbdc-a756-4b2b-9ddc-03d0fcf62de5",
   "metadata": {},
   "outputs": [
    {
     "name": "stdout",
     "output_type": "stream",
     "text": [
      "32\n"
     ]
    }
   ],
   "source": [
    "x = 2\n",
    "y = 5\n",
    "print(x ** y)"
   ]
  },
  {
   "cell_type": "code",
   "execution_count": 17,
   "id": "cc3c0c56-30d2-4ab7-a4fa-a72f5575dcc7",
   "metadata": {},
   "outputs": [
    {
     "name": "stdout",
     "output_type": "stream",
     "text": [
      "7\n"
     ]
    }
   ],
   "source": [
    "x = 15\n",
    "y = 2\n",
    "print(x // y)\n",
    "#rounds the result down to the nearest whole number"
   ]
  },
  {
   "cell_type": "markdown",
   "id": "c728995a-4894-42b8-8341-4e23d5fb453e",
   "metadata": {},
   "source": [
    "2. Assignments Operatots"
   ]
  },
  {
   "cell_type": "code",
   "execution_count": 23,
   "id": "1ea1e102-7cad-4a49-bfc0-b92f014c9291",
   "metadata": {},
   "outputs": [
    {
     "name": "stdout",
     "output_type": "stream",
     "text": [
      "5\n"
     ]
    }
   ],
   "source": [
    "x = 5\n",
    "print(x)"
   ]
  },
  {
   "cell_type": "code",
   "execution_count": 25,
   "id": "c836b509-4cff-4a3b-ae06-99b39553eab5",
   "metadata": {},
   "outputs": [
    {
     "name": "stdout",
     "output_type": "stream",
     "text": [
      "8\n"
     ]
    }
   ],
   "source": [
    "x = 5\n",
    "x += 3\n",
    "print(x)"
   ]
  },
  {
   "cell_type": "code",
   "execution_count": 27,
   "id": "62099286-2e1e-4560-b0ea-7a448606754c",
   "metadata": {},
   "outputs": [
    {
     "name": "stdout",
     "output_type": "stream",
     "text": [
      "2\n"
     ]
    }
   ],
   "source": [
    "x = 5\n",
    "x -= 3\n",
    "print(x)"
   ]
  },
  {
   "cell_type": "code",
   "execution_count": 29,
   "id": "d2f89dcb-a6e4-4eb8-aeee-a23a7895a326",
   "metadata": {},
   "outputs": [
    {
     "name": "stdout",
     "output_type": "stream",
     "text": [
      "15\n"
     ]
    }
   ],
   "source": [
    "x = 5\n",
    "x *= 3\n",
    "print(x)"
   ]
  },
  {
   "cell_type": "code",
   "execution_count": 31,
   "id": "4ef19eaa-14fa-4caf-97d4-cade13c05202",
   "metadata": {},
   "outputs": [
    {
     "name": "stdout",
     "output_type": "stream",
     "text": [
      "1.6666666666666667\n"
     ]
    }
   ],
   "source": [
    "x = 5\n",
    "x /= 3\n",
    "print(x)"
   ]
  },
  {
   "cell_type": "code",
   "execution_count": 33,
   "id": "ca9a9a18-09bb-4463-b04a-a049fd9704de",
   "metadata": {},
   "outputs": [
    {
     "name": "stdout",
     "output_type": "stream",
     "text": [
      "2\n"
     ]
    }
   ],
   "source": [
    "x = 5\n",
    "x %= 3\n",
    "print(x)"
   ]
  },
  {
   "cell_type": "code",
   "execution_count": 35,
   "id": "07e0cfc3-7414-4934-bbf6-6cb6aecb24d5",
   "metadata": {},
   "outputs": [
    {
     "name": "stdout",
     "output_type": "stream",
     "text": [
      "1\n"
     ]
    }
   ],
   "source": [
    "x = 5\n",
    "x //= 3\n",
    "print(x)"
   ]
  },
  {
   "cell_type": "code",
   "execution_count": 37,
   "id": "0ea69fad-33c1-424f-8779-ad1d0d1ad1c6",
   "metadata": {},
   "outputs": [
    {
     "name": "stdout",
     "output_type": "stream",
     "text": [
      "125\n"
     ]
    }
   ],
   "source": [
    "x = 5\n",
    "x **= 3\n",
    "print(x)"
   ]
  },
  {
   "cell_type": "code",
   "execution_count": 39,
   "id": "6db6e50e-c887-4259-b3b0-9f286dca33fe",
   "metadata": {},
   "outputs": [
    {
     "name": "stdout",
     "output_type": "stream",
     "text": [
      "1\n"
     ]
    }
   ],
   "source": [
    "x = 5\n",
    "x &= 3\n",
    "print(x)"
   ]
  },
  {
   "cell_type": "code",
   "execution_count": 41,
   "id": "ffd2d11f-b908-4e4f-b7d4-f53c7d3872d9",
   "metadata": {},
   "outputs": [
    {
     "name": "stdout",
     "output_type": "stream",
     "text": [
      "7\n"
     ]
    }
   ],
   "source": [
    "x = 5\n",
    "x |= 3\n",
    "print(x)"
   ]
  },
  {
   "cell_type": "code",
   "execution_count": 47,
   "id": "7125a852-741a-4208-a6dd-c0689857dfde",
   "metadata": {},
   "outputs": [
    {
     "name": "stdout",
     "output_type": "stream",
     "text": [
      "6\n"
     ]
    }
   ],
   "source": [
    "x = 5\n",
    "x ^= 3\n",
    "print(x)"
   ]
  },
  {
   "cell_type": "code",
   "execution_count": 49,
   "id": "a9f457b3-e889-4540-bd1c-7e950810a5af",
   "metadata": {},
   "outputs": [
    {
     "name": "stdout",
     "output_type": "stream",
     "text": [
      "0\n"
     ]
    }
   ],
   "source": [
    "x = 5\n",
    "x >>= 3\n",
    "print(x)"
   ]
  },
  {
   "cell_type": "code",
   "execution_count": 51,
   "id": "f74f92e8-9ab3-4838-a524-4b4990f573b4",
   "metadata": {},
   "outputs": [
    {
     "name": "stdout",
     "output_type": "stream",
     "text": [
      "40\n"
     ]
    }
   ],
   "source": [
    "x = 5\n",
    "x <<= 3\n",
    "print(x)"
   ]
  },
  {
   "cell_type": "code",
   "execution_count": 53,
   "id": "01b7fbf7-f669-4036-be3d-5809929eccaa",
   "metadata": {},
   "outputs": [
    {
     "name": "stdout",
     "output_type": "stream",
     "text": [
      "3\n"
     ]
    }
   ],
   "source": [
    "print(x := 3)"
   ]
  },
  {
   "cell_type": "markdown",
   "id": "6f7e0608-1bb1-42f9-aa0c-6e1435cc76d2",
   "metadata": {},
   "source": [
    "3. Comparison Operators"
   ]
  },
  {
   "cell_type": "code",
   "execution_count": 56,
   "id": "d0f54100-ca42-4753-a625-f71f546d1346",
   "metadata": {},
   "outputs": [
    {
     "name": "stdout",
     "output_type": "stream",
     "text": [
      "False\n"
     ]
    }
   ],
   "source": [
    "x = 5\n",
    "y = 3\n",
    "print(x == y)"
   ]
  },
  {
   "cell_type": "code",
   "execution_count": 58,
   "id": "01b0a29f-f131-49d5-955d-5b81c771d330",
   "metadata": {},
   "outputs": [
    {
     "name": "stdout",
     "output_type": "stream",
     "text": [
      "True\n"
     ]
    }
   ],
   "source": [
    "x = 5\n",
    "y = 3\n",
    "print(x != y)"
   ]
  },
  {
   "cell_type": "code",
   "execution_count": 60,
   "id": "3e849ab0-e197-43ac-93fd-514d7b6950c0",
   "metadata": {},
   "outputs": [
    {
     "name": "stdout",
     "output_type": "stream",
     "text": [
      "True\n"
     ]
    }
   ],
   "source": [
    "x = 5\n",
    "y = 3\n",
    "print(x > y)"
   ]
  },
  {
   "cell_type": "code",
   "execution_count": 62,
   "id": "a8cf8f47-9adf-424f-9214-a979bad562dd",
   "metadata": {},
   "outputs": [
    {
     "name": "stdout",
     "output_type": "stream",
     "text": [
      "False\n"
     ]
    }
   ],
   "source": [
    "x = 5\n",
    "y = 3\n",
    "print(x < y)"
   ]
  },
  {
   "cell_type": "code",
   "execution_count": 64,
   "id": "a81770f2-fb43-48fb-8304-a378c3b75210",
   "metadata": {},
   "outputs": [
    {
     "name": "stdout",
     "output_type": "stream",
     "text": [
      "True\n"
     ]
    }
   ],
   "source": [
    "x = 5\n",
    "y = 3\n",
    "print(x >= y)"
   ]
  },
  {
   "cell_type": "code",
   "execution_count": 66,
   "id": "48bd2659-1ed3-4d60-aab3-d844579403e4",
   "metadata": {},
   "outputs": [
    {
     "name": "stdout",
     "output_type": "stream",
     "text": [
      "False\n"
     ]
    }
   ],
   "source": [
    "x = 5\n",
    "y = 3\n",
    "print(x <= y)"
   ]
  },
  {
   "cell_type": "markdown",
   "id": "84692fc0-6848-4e1f-9623-539e79542d80",
   "metadata": {},
   "source": [
    "4. Logical Operators"
   ]
  },
  {
   "cell_type": "code",
   "execution_count": 69,
   "id": "f2f387ef-74b7-4e51-9446-d2797b1d7f48",
   "metadata": {},
   "outputs": [
    {
     "name": "stdout",
     "output_type": "stream",
     "text": [
      "True\n"
     ]
    }
   ],
   "source": [
    "x = 5\n",
    "print(x > 3 and x < 10)"
   ]
  },
  {
   "cell_type": "code",
   "execution_count": 71,
   "id": "89970aa8-00f2-488f-9621-7e9bc1c1214d",
   "metadata": {},
   "outputs": [
    {
     "name": "stdout",
     "output_type": "stream",
     "text": [
      "True\n"
     ]
    }
   ],
   "source": [
    "x = 5\n",
    "print(x > 3 or x < 4)"
   ]
  },
  {
   "cell_type": "code",
   "execution_count": 73,
   "id": "3a39e309-548d-4c5a-b7f8-5c6e58fb241f",
   "metadata": {},
   "outputs": [
    {
     "name": "stdout",
     "output_type": "stream",
     "text": [
      "False\n"
     ]
    }
   ],
   "source": [
    "x = 5\n",
    "print(not(x > 3 and x < 10))"
   ]
  },
  {
   "cell_type": "markdown",
   "id": "89e8943f-5fe5-494c-be39-b7715ca25731",
   "metadata": {},
   "source": [
    "5. Identity Operators"
   ]
  },
  {
   "cell_type": "code",
   "execution_count": 76,
   "id": "711404fd-1d6c-4fcb-a3be-eb64017b8e43",
   "metadata": {},
   "outputs": [
    {
     "name": "stdout",
     "output_type": "stream",
     "text": [
      "True\n",
      "False\n",
      "True\n"
     ]
    }
   ],
   "source": [
    "x = [\"apple\", \"banana\"]\n",
    "y = [\"apple\", \"banana\"]\n",
    "z = x\n",
    "print(x is z)\n",
    "print(x is y)\n",
    "print(x == y)"
   ]
  },
  {
   "cell_type": "code",
   "execution_count": 78,
   "id": "76e1dc11-dec5-4bbf-a574-6d68160111c4",
   "metadata": {},
   "outputs": [
    {
     "name": "stdout",
     "output_type": "stream",
     "text": [
      "False\n",
      "True\n",
      "False\n"
     ]
    }
   ],
   "source": [
    "x = [\"apple\", \"banana\"]\n",
    "y = [\"apple\", \"banana\"]\n",
    "z = x\n",
    "print(x is not z)\n",
    "print(x is not y)\n",
    "print(x != y)"
   ]
  },
  {
   "cell_type": "markdown",
   "id": "f1dffb0e-d0b0-4798-8dfc-7018f404f11d",
   "metadata": {},
   "source": [
    "6. Membership Operators"
   ]
  },
  {
   "cell_type": "code",
   "execution_count": 81,
   "id": "702feb80-8d15-4554-9231-a189380a1301",
   "metadata": {},
   "outputs": [
    {
     "name": "stdout",
     "output_type": "stream",
     "text": [
      "True\n"
     ]
    }
   ],
   "source": [
    "x = [\"apple\", \"banana\"]\n",
    "print(\"banana\" in x)"
   ]
  },
  {
   "cell_type": "code",
   "execution_count": 83,
   "id": "833d4c48-91c2-4dd8-905f-75674b2c08db",
   "metadata": {},
   "outputs": [
    {
     "name": "stdout",
     "output_type": "stream",
     "text": [
      "True\n"
     ]
    }
   ],
   "source": [
    "x = [\"apple\", \"banana\"]\n",
    "print(\"pineapple\" not in x)"
   ]
  },
  {
   "cell_type": "markdown",
   "id": "c9e85cd9-8570-49ce-b484-2a59270ae74f",
   "metadata": {},
   "source": [
    "7. Bitwise Operator"
   ]
  },
  {
   "cell_type": "code",
   "execution_count": 86,
   "id": "86d5c389-ed7f-4503-9adb-f8586b355160",
   "metadata": {},
   "outputs": [
    {
     "name": "stdout",
     "output_type": "stream",
     "text": [
      "2\n"
     ]
    }
   ],
   "source": [
    "print(6 & 3)"
   ]
  },
  {
   "cell_type": "code",
   "execution_count": 88,
   "id": "16e8afc6-7635-43ef-8b5d-e88b89d699ff",
   "metadata": {},
   "outputs": [
    {
     "name": "stdout",
     "output_type": "stream",
     "text": [
      "7\n"
     ]
    }
   ],
   "source": [
    "print(6 | 3)"
   ]
  },
  {
   "cell_type": "code",
   "execution_count": 90,
   "id": "44bb08a6-d977-412f-946a-0e28a758426d",
   "metadata": {},
   "outputs": [
    {
     "name": "stdout",
     "output_type": "stream",
     "text": [
      "5\n"
     ]
    }
   ],
   "source": [
    "print(6 ^ 3)"
   ]
  },
  {
   "cell_type": "code",
   "execution_count": 92,
   "id": "948f3f82-d43f-457d-82de-2fb10ba267eb",
   "metadata": {},
   "outputs": [
    {
     "name": "stdout",
     "output_type": "stream",
     "text": [
      "-4\n"
     ]
    }
   ],
   "source": [
    "print(~3)"
   ]
  },
  {
   "cell_type": "code",
   "execution_count": 94,
   "id": "c09bf5ff-559f-445a-b487-d5c5df2c5a32",
   "metadata": {},
   "outputs": [
    {
     "name": "stdout",
     "output_type": "stream",
     "text": [
      "12\n"
     ]
    }
   ],
   "source": [
    "print(3 << 2)"
   ]
  },
  {
   "cell_type": "code",
   "execution_count": 98,
   "id": "df80674c-de3c-47a9-a55b-916c1c518a95",
   "metadata": {},
   "outputs": [
    {
     "name": "stdout",
     "output_type": "stream",
     "text": [
      "2\n"
     ]
    }
   ],
   "source": [
    "print(8 >> 2)"
   ]
  },
  {
   "cell_type": "code",
   "execution_count": 100,
   "id": "d143f2e1-630e-4fff-ab24-55fe799a16c6",
   "metadata": {},
   "outputs": [
    {
     "name": "stdout",
     "output_type": "stream",
     "text": [
      "0\n"
     ]
    }
   ],
   "source": [
    "print((6 + 3) - (6 +3))"
   ]
  },
  {
   "cell_type": "code",
   "execution_count": 102,
   "id": "98fbe098-fca9-4182-bc68-b0590c4cb72a",
   "metadata": {},
   "outputs": [
    {
     "name": "stdout",
     "output_type": "stream",
     "text": [
      "115\n"
     ]
    }
   ],
   "source": [
    "print(100 + 5 * 3)"
   ]
  },
  {
   "cell_type": "code",
   "execution_count": 104,
   "id": "9966f261-1cb2-4e5e-8197-1ed0528a5989",
   "metadata": {},
   "outputs": [
    {
     "name": "stdout",
     "output_type": "stream",
     "text": [
      "73\n"
     ]
    }
   ],
   "source": [
    "print(100 - 3 ** 3)"
   ]
  },
  {
   "cell_type": "code",
   "execution_count": 108,
   "id": "05ed6918-195c-4ddc-9e19-ae35010fd880",
   "metadata": {},
   "outputs": [
    {
     "name": "stdout",
     "output_type": "stream",
     "text": [
      "96\n"
     ]
    }
   ],
   "source": [
    "print(100 + ~3)"
   ]
  },
  {
   "cell_type": "code",
   "execution_count": 110,
   "id": "c59948b8-8987-43ba-a979-44d9b3101133",
   "metadata": {},
   "outputs": [
    {
     "name": "stdout",
     "output_type": "stream",
     "text": [
      "2\n"
     ]
    }
   ],
   "source": [
    "print(8 >> 4 - 2)"
   ]
  },
  {
   "cell_type": "code",
   "execution_count": 112,
   "id": "e9fc5334-10f7-4cd7-946e-e70b3a9edfc5",
   "metadata": {},
   "outputs": [
    {
     "name": "stdout",
     "output_type": "stream",
     "text": [
      "2\n"
     ]
    }
   ],
   "source": [
    "print(6 & 2 + 1)"
   ]
  },
  {
   "cell_type": "code",
   "execution_count": 114,
   "id": "d82a0a2d-63e0-49e7-854d-4fb083cbcbd1",
   "metadata": {},
   "outputs": [
    {
     "name": "stdout",
     "output_type": "stream",
     "text": [
      "5\n"
     ]
    }
   ],
   "source": [
    "print(6 ^ 2 + 1)"
   ]
  },
  {
   "cell_type": "code",
   "execution_count": 116,
   "id": "f366e323-a612-434f-9331-f288cda36fa2",
   "metadata": {},
   "outputs": [
    {
     "name": "stdout",
     "output_type": "stream",
     "text": [
      "7\n"
     ]
    }
   ],
   "source": [
    "print(6 | 2 + 1)"
   ]
  },
  {
   "cell_type": "code",
   "execution_count": 118,
   "id": "662093d6-1b31-416e-a2b9-2cf6ad8fdb74",
   "metadata": {},
   "outputs": [
    {
     "name": "stdout",
     "output_type": "stream",
     "text": [
      "True\n"
     ]
    }
   ],
   "source": [
    "print(5 == 4 + 1)"
   ]
  },
  {
   "cell_type": "code",
   "execution_count": 120,
   "id": "505976c8-73a9-42af-830f-30b4f5d96be0",
   "metadata": {},
   "outputs": [
    {
     "name": "stdout",
     "output_type": "stream",
     "text": [
      "False\n"
     ]
    }
   ],
   "source": [
    "print(not 5 == 5)"
   ]
  },
  {
   "cell_type": "code",
   "execution_count": 122,
   "id": "d56ee2fc-cd07-4e9f-a19c-6933a5731bb5",
   "metadata": {},
   "outputs": [
    {
     "name": "stdout",
     "output_type": "stream",
     "text": [
      "1\n"
     ]
    }
   ],
   "source": [
    "print(1 or 2 and 3)"
   ]
  },
  {
   "cell_type": "code",
   "execution_count": 126,
   "id": "98adffb5-6ef3-4dca-9d01-7717374e3ba6",
   "metadata": {},
   "outputs": [
    {
     "name": "stdout",
     "output_type": "stream",
     "text": [
      "5\n"
     ]
    }
   ],
   "source": [
    "print(5 + 4 - 7 + 3)"
   ]
  },
  {
   "cell_type": "code",
   "execution_count": null,
   "id": "39a5b94f-a17e-475b-8a3a-4f7117d55cd0",
   "metadata": {},
   "outputs": [],
   "source": []
  }
 ],
 "metadata": {
  "kernelspec": {
   "display_name": "Python [conda env:base] *",
   "language": "python",
   "name": "conda-base-py"
  },
  "language_info": {
   "codemirror_mode": {
    "name": "ipython",
    "version": 3
   },
   "file_extension": ".py",
   "mimetype": "text/x-python",
   "name": "python",
   "nbconvert_exporter": "python",
   "pygments_lexer": "ipython3",
   "version": "3.12.7"
  }
 },
 "nbformat": 4,
 "nbformat_minor": 5
}
